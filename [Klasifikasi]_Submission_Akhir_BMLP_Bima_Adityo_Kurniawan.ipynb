{
  "cells": [
    {
      "cell_type": "markdown",
      "metadata": {
        "id": "fKADPWcFKlj3"
      },
      "source": [
        "# **1. Import Library**"
      ]
    },
    {
      "cell_type": "code",
      "execution_count": null,
      "metadata": {
        "id": "BlmvjLY9M4Yj"
      },
      "outputs": [],
      "source": [
        "import pandas as pd\n",
        "import numpy as np\n",
        "import matplotlib.pyplot as plt\n",
        "import seaborn as sns\n",
        "from sklearn.model_selection import train_test_split\n",
        "from sklearn.tree import DecisionTreeClassifier\n",
        "from sklearn.ensemble import RandomForestClassifier\n",
        "from sklearn.preprocessing import LabelEncoder, MinMaxScaler\n",
        "from sklearn.metrics import confusion_matrix, accuracy_score, precision_score, recall_score, f1_score\n",
        "from sklearn.metrics import classification_report\n",
        "from sklearn.model_selection import learning_curve\n",
        "from skopt import BayesSearchCV\n",
        "from imblearn.over_sampling import SMOTE"
      ]
    },
    {
      "cell_type": "markdown",
      "metadata": {
        "id": "f3YIEnAFKrKL"
      },
      "source": [
        "# **2. Memuat Dataset dari Hasil Clustering**"
      ]
    },
    {
      "cell_type": "markdown",
      "metadata": {
        "id": "Ey3ItwTen_7E"
      },
      "source": [
        "Memuat dataset hasil clustering dari file CSV ke dalam variabel DataFrame."
      ]
    },
    {
      "cell_type": "code",
      "execution_count": 2,
      "metadata": {
        "id": "GHCGNTyrM5fS"
      },
      "outputs": [
        {
          "data": {
            "text/html": [
              "<div>\n",
              "<style scoped>\n",
              "    .dataframe tbody tr th:only-of-type {\n",
              "        vertical-align: middle;\n",
              "    }\n",
              "\n",
              "    .dataframe tbody tr th {\n",
              "        vertical-align: top;\n",
              "    }\n",
              "\n",
              "    .dataframe thead th {\n",
              "        text-align: right;\n",
              "    }\n",
              "</style>\n",
              "<table border=\"1\" class=\"dataframe\">\n",
              "  <thead>\n",
              "    <tr style=\"text-align: right;\">\n",
              "      <th></th>\n",
              "      <th>job_category</th>\n",
              "      <th>salary_in_usd</th>\n",
              "      <th>experience_level</th>\n",
              "      <th>work_setting</th>\n",
              "      <th>company_size</th>\n",
              "      <th>Cluster</th>\n",
              "    </tr>\n",
              "  </thead>\n",
              "  <tbody>\n",
              "    <tr>\n",
              "      <th>0</th>\n",
              "      <td>Data Architecture and Modeling</td>\n",
              "      <td>186000.0</td>\n",
              "      <td>Senior</td>\n",
              "      <td>In-person</td>\n",
              "      <td>M</td>\n",
              "      <td>0</td>\n",
              "    </tr>\n",
              "    <tr>\n",
              "      <th>1</th>\n",
              "      <td>Data Architecture and Modeling</td>\n",
              "      <td>81800.0</td>\n",
              "      <td>Senior</td>\n",
              "      <td>In-person</td>\n",
              "      <td>M</td>\n",
              "      <td>0</td>\n",
              "    </tr>\n",
              "    <tr>\n",
              "      <th>2</th>\n",
              "      <td>Data Science and Research</td>\n",
              "      <td>212000.0</td>\n",
              "      <td>Senior</td>\n",
              "      <td>In-person</td>\n",
              "      <td>M</td>\n",
              "      <td>0</td>\n",
              "    </tr>\n",
              "    <tr>\n",
              "      <th>3</th>\n",
              "      <td>Data Science and Research</td>\n",
              "      <td>93300.0</td>\n",
              "      <td>Senior</td>\n",
              "      <td>In-person</td>\n",
              "      <td>M</td>\n",
              "      <td>0</td>\n",
              "    </tr>\n",
              "    <tr>\n",
              "      <th>4</th>\n",
              "      <td>Data Science and Research</td>\n",
              "      <td>130000.0</td>\n",
              "      <td>Senior</td>\n",
              "      <td>Remote</td>\n",
              "      <td>M</td>\n",
              "      <td>1</td>\n",
              "    </tr>\n",
              "  </tbody>\n",
              "</table>\n",
              "</div>"
            ],
            "text/plain": [
              "                     job_category  salary_in_usd experience_level  \\\n",
              "0  Data Architecture and Modeling       186000.0           Senior   \n",
              "1  Data Architecture and Modeling        81800.0           Senior   \n",
              "2       Data Science and Research       212000.0           Senior   \n",
              "3       Data Science and Research        93300.0           Senior   \n",
              "4       Data Science and Research       130000.0           Senior   \n",
              "\n",
              "  work_setting company_size  Cluster  \n",
              "0    In-person            M        0  \n",
              "1    In-person            M        0  \n",
              "2    In-person            M        0  \n",
              "3    In-person            M        0  \n",
              "4       Remote            M        1  "
            ]
          },
          "execution_count": 2,
          "metadata": {},
          "output_type": "execute_result"
        }
      ],
      "source": [
        "df = pd.read_csv(\"jobs_in_data_after_clustering.csv\")\n",
        "df.head()"
      ]
    },
    {
      "cell_type": "markdown",
      "metadata": {
        "id": "KkPem5eWL2UP"
      },
      "source": [
        "# **3. Data Splitting**"
      ]
    },
    {
      "cell_type": "markdown",
      "metadata": {
        "id": "YYj1rl_JNI9Y"
      },
      "source": [
        "Tahap Data Splitting bertujuan untuk memisahkan dataset menjadi dua bagian: data latih (training set) dan data uji (test set)."
      ]
    },
    {
      "cell_type": "code",
      "execution_count": 3,
      "metadata": {},
      "outputs": [
        {
          "data": {
            "text/html": [
              "<div>\n",
              "<style scoped>\n",
              "    .dataframe tbody tr th:only-of-type {\n",
              "        vertical-align: middle;\n",
              "    }\n",
              "\n",
              "    .dataframe tbody tr th {\n",
              "        vertical-align: top;\n",
              "    }\n",
              "\n",
              "    .dataframe thead th {\n",
              "        text-align: right;\n",
              "    }\n",
              "</style>\n",
              "<table border=\"1\" class=\"dataframe\">\n",
              "  <thead>\n",
              "    <tr style=\"text-align: right;\">\n",
              "      <th></th>\n",
              "      <th>job_category</th>\n",
              "      <th>salary_in_usd</th>\n",
              "      <th>experience_level</th>\n",
              "      <th>work_setting</th>\n",
              "      <th>company_size</th>\n",
              "      <th>Cluster</th>\n",
              "    </tr>\n",
              "  </thead>\n",
              "  <tbody>\n",
              "    <tr>\n",
              "      <th>0</th>\n",
              "      <td>3</td>\n",
              "      <td>186000.0</td>\n",
              "      <td>2</td>\n",
              "      <td>0</td>\n",
              "      <td>1</td>\n",
              "      <td>0</td>\n",
              "    </tr>\n",
              "    <tr>\n",
              "      <th>1</th>\n",
              "      <td>3</td>\n",
              "      <td>81800.0</td>\n",
              "      <td>2</td>\n",
              "      <td>0</td>\n",
              "      <td>1</td>\n",
              "      <td>0</td>\n",
              "    </tr>\n",
              "    <tr>\n",
              "      <th>2</th>\n",
              "      <td>7</td>\n",
              "      <td>212000.0</td>\n",
              "      <td>2</td>\n",
              "      <td>0</td>\n",
              "      <td>1</td>\n",
              "      <td>0</td>\n",
              "    </tr>\n",
              "    <tr>\n",
              "      <th>3</th>\n",
              "      <td>7</td>\n",
              "      <td>93300.0</td>\n",
              "      <td>2</td>\n",
              "      <td>0</td>\n",
              "      <td>1</td>\n",
              "      <td>0</td>\n",
              "    </tr>\n",
              "    <tr>\n",
              "      <th>4</th>\n",
              "      <td>7</td>\n",
              "      <td>130000.0</td>\n",
              "      <td>2</td>\n",
              "      <td>1</td>\n",
              "      <td>1</td>\n",
              "      <td>1</td>\n",
              "    </tr>\n",
              "  </tbody>\n",
              "</table>\n",
              "</div>"
            ],
            "text/plain": [
              "   job_category  salary_in_usd  experience_level  work_setting  company_size  \\\n",
              "0             3       186000.0                 2             0             1   \n",
              "1             3        81800.0                 2             0             1   \n",
              "2             7       212000.0                 2             0             1   \n",
              "3             7        93300.0                 2             0             1   \n",
              "4             7       130000.0                 2             1             1   \n",
              "\n",
              "   Cluster  \n",
              "0        0  \n",
              "1        0  \n",
              "2        0  \n",
              "3        0  \n",
              "4        1  "
            ]
          },
          "execution_count": 3,
          "metadata": {},
          "output_type": "execute_result"
        }
      ],
      "source": [
        "# Buat instance LabelEncoder\n",
        "label_encoder = LabelEncoder()\n",
        "\n",
        "# List kolom kategorikal yang perlu di-encode\n",
        "categorical_columns = ['job_category', 'experience_level', 'work_setting', 'company_size']\n",
        "\n",
        "# Encode kolom kategorikal\n",
        "for column in categorical_columns:\n",
        "    df[column] = label_encoder.fit_transform(df[column])\n",
        "\n",
        "# Tampilkan DataFrame untuk memastikan encoding telah diterapkan\n",
        "df.head()"
      ]
    },
    {
      "cell_type": "code",
      "execution_count": 4,
      "metadata": {
        "id": "OubAW-7ONKVj"
      },
      "outputs": [
        {
          "name": "stdout",
          "output_type": "stream",
          "text": [
            "Training set shape: X_train=(3073, 5), y_train=(3073,)\n",
            "Test set shape: X_test=(769, 5), y_test=(769,)\n"
          ]
        }
      ],
      "source": [
        "# Buat instance MinMaxScaler\n",
        "scaler = MinMaxScaler()\n",
        "\n",
        "# Normalisasi semua kolom numerik\n",
        "numeric_columns = df.select_dtypes(include=['float64']).columns\n",
        "df[numeric_columns] = scaler.fit_transform(df[numeric_columns])\n",
        "\n",
        "# Pisahkan fitur (X) dan target (y)\n",
        "X = df.drop(columns=['Cluster'])\n",
        "y = df['Cluster']\n",
        "\n",
        "# Split data menjadi set pelatihan dan set uji\n",
        "X_train, X_test, y_train, y_test = train_test_split(X, y, test_size=0.2, random_state=95)\n",
        "\n",
        "# Tampilkan bentuk set pelatihan dan set uji untuk memastikan split\n",
        "print(f\"Training set shape: X_train={X_train.shape}, y_train={y_train.shape}\")\n",
        "print(f\"Test set shape: X_test={X_test.shape}, y_test={y_test.shape}\")"
      ]
    },
    {
      "cell_type": "code",
      "execution_count": 5,
      "metadata": {},
      "outputs": [
        {
          "name": "stdout",
          "output_type": "stream",
          "text": [
            "Distribusi kelas: [1218  918  475  115  347]\n"
          ]
        }
      ],
      "source": [
        "print(\"Distribusi kelas:\", np.bincount(y_train))"
      ]
    },
    {
      "cell_type": "markdown",
      "metadata": {},
      "source": [
        "Distribusi clusters tidak merata (Imbalanced dataset), maka akan menggunakan SMOTE"
      ]
    },
    {
      "cell_type": "code",
      "execution_count": null,
      "metadata": {},
      "outputs": [
        {
          "name": "stdout",
          "output_type": "stream",
          "text": [
            "Distribusi kelas setelah dilakukan SMOTE: [1218 1218 1218 1218 1218]\n"
          ]
        }
      ],
      "source": [
        "smote = SMOTE(random_state=95)\n",
        "X_train, y_train = smote.fit_resample(X_train, y_train)\n",
        "print(\"Distribusi kelas setelah dilakukan SMOTE:\", np.bincount(y_train))"
      ]
    },
    {
      "cell_type": "markdown",
      "metadata": {
        "id": "IVPbB03CMhTT"
      },
      "source": [
        "# **4. Membangun Model Klasifikasi**\n"
      ]
    },
    {
      "cell_type": "markdown",
      "metadata": {
        "id": "Ned1pL9zMmBK"
      },
      "source": [
        "## **a. Membangun Model Klasifikasi**"
      ]
    },
    {
      "cell_type": "markdown",
      "metadata": {},
      "source": [
        "**Algoritma yang dipilih:**\n",
        "\n",
        "**1. Decision Tree**\n",
        "\n",
        "Alasan:\n",
        "- Lebih cepat dibandingkan Random Forest karena hanya menggunakan satu pohon, tetapi masih cukup akurat.\n",
        "- Mudah dipahami dan divisualisasikan, cocok jika ingin mendapatkan insight dari struktur data.\n",
        "- Menangani fitur kategorikal dengan baik, cocok untuk dataset yang memiliki fitur kategorikal seperti job_category, work_setting, experience_level.\n",
        "\n",
        "**2. Random Forest**\n",
        "\n",
        "Alasan:\n",
        "- Menggunakan banyak pohon keputusan (ensemble learning) untuk meningkatkan akurasi dan mengurangi overfitting.\n",
        "- Mampu menangani fitur kategorikal setelah encoding dengan baik.\n",
        "- Robust terhadap outlier dan fitur tidak relevan, cocok untuk dataset dengan fitur heterogen seperti ini.\n",
        "- Dapat menangani data yang tidak seimbang lebih baik dibandingkan model lain dengan teknik class weighting atau undersampling dalam setiap pohonnya.\n",
        "\n",
        "**Algoritma yang tidak dipilih:**\n",
        "- **K-Nearest Neighbors (KNN):** Kurang optimal karena membutuhkan banyak komputasi saat mencari tetangga terdekat, terutama jika dataset memiliki fitur numerik yang bervariasi tinggi (salary_in_usd).\n",
        "- **Support Vector Machine (SVM):** Kurang cocok untuk banyak kelas (multiclass) karena membutuhkan lebih banyak perhitungan dan parameter tuning untuk menangani data berukuran 4.382 baris dengan baik.\n",
        "- **Naive Bayes:** kurang optimal karena asumsi independensi antar fitur yang tidak terpenuhi (salary_in_usd kemungkinan berkorelasi dengan experience_level dan job_category).\n",
        "- **Logistic Regression:** Logistic Regression secara alami dirancang untuk biner classification. Model ini juga kurang efektif jika ada fitur yang memiliki hubungan non-linier dengan target, terutama data klasifikasi pekerjaan dan gaji. Pengaruh pengalaman kerja terhadap gaji mungkin meningkat secara eksponensial, bukan linear."
      ]
    },
    {
      "cell_type": "code",
      "execution_count": 7,
      "metadata": {},
      "outputs": [
        {
          "name": "stdout",
          "output_type": "stream",
          "text": [
            "Model training selesai.\n"
          ]
        }
      ],
      "source": [
        "# DT dan RF diberikan max_depth 3 untuk mengurangi risiko overfitting karena data hanya ribuan baris\n",
        "dt = DecisionTreeClassifier(max_depth=3, random_state=95).fit(X_train, y_train)\n",
        "rf = RandomForestClassifier(max_depth=3, n_estimators=50, random_state=95).fit(X_train, y_train)\n",
        "\n",
        "print(\"Model training selesai.\")"
      ]
    },
    {
      "cell_type": "markdown",
      "metadata": {
        "id": "ergzChZFEL-O"
      },
      "source": [
        "## **b. Evaluasi Model Klasifikasi**"
      ]
    },
    {
      "cell_type": "code",
      "execution_count": 8,
      "metadata": {
        "id": "tMq4QAssNLip"
      },
      "outputs": [
        {
          "name": "stdout",
          "output_type": "stream",
          "text": [
            "==== Decision Tree Classifier ====\n",
            "Confusion Matrix:\n",
            "[[303   0   0   0   0]\n",
            " [  0 242   0   0   0]\n",
            " [  0   0 116   0   0]\n",
            " [  0   0   0  38   0]\n",
            " [  0   0   0   0  70]]\n",
            "Accuracy: 1.0000\n",
            "Precision (weighted): 1.0000\n",
            "Recall (weighted): 1.0000\n",
            "F1-Score (weighted): 1.0000\n",
            "\n",
            "----------------------------------------\n",
            "\n"
          ]
        },
        {
          "data": {
            "image/png": "[encoded data removed]",
            "text/plain": [
              "<Figure size 600x500 with 1 Axes>"
            ]
          },
          "metadata": {},
          "output_type": "display_data"
        }
      ],
      "source": [
        "# Prediksi menggunakan Decision Tree\n",
        "y_pred_dt = dt.predict(X_test)\n",
        "\n",
        "# Membuat Confusion Matrix\n",
        "cm_dt = confusion_matrix(y_test, y_pred_dt)\n",
        "\n",
        "# Menampilkan hasil evaluasi\n",
        "print(\"==== Decision Tree Classifier ====\")\n",
        "print(\"Confusion Matrix:\")\n",
        "print(cm_dt)\n",
        "print(f\"Accuracy: {accuracy_score(y_test, y_pred_dt):.4f}\")\n",
        "print(f\"Precision (weighted): {precision_score(y_test, y_pred_dt, average='weighted'):.4f}\")\n",
        "print(f\"Recall (weighted): {recall_score(y_test, y_pred_dt, average='weighted'):.4f}\")\n",
        "print(f\"F1-Score (weighted): {f1_score(y_test, y_pred_dt, average='weighted'):.4f}\")\n",
        "print(\"\\n\" + \"-\"*40 + \"\\n\")\n",
        "\n",
        "# Plot Confusion Matrix\n",
        "plt.figure(figsize=(6, 5))\n",
        "sns.heatmap(cm_dt, annot=True, fmt='d', cmap='Blues', cbar=False, \n",
        "            xticklabels=np.unique(y_test), yticklabels=np.unique(y_test))\n",
        "plt.title('Decision Tree Confusion Matrix')\n",
        "plt.xlabel('Predicted Label')\n",
        "plt.ylabel('Actual Label')\n",
        "plt.show()"
      ]
    },
    {
      "cell_type": "code",
      "execution_count": 9,
      "metadata": {},
      "outputs": [
        {
          "name": "stdout",
          "output_type": "stream",
          "text": [
            "==== Random Forest Classifier ====\n",
            "Confusion Matrix:\n",
            "[[303   0   0   0   0]\n",
            " [  0 242   0   0   0]\n",
            " [  0   0 116   0   0]\n",
            " [  0   0   0  38   0]\n",
            " [  0   0   0   0  70]]\n",
            "Accuracy: 1.0000\n",
            "Precision (weighted): 1.0000\n",
            "Recall (weighted): 1.0000\n",
            "F1-Score (weighted): 1.0000\n",
            "\n",
            "----------------------------------------\n",
            "\n"
          ]
        },
        {
          "data": {
            "image/png": "[encoded data removed]",
            "text/plain": [
              "<Figure size 600x500 with 1 Axes>"
            ]
          },
          "metadata": {},
          "output_type": "display_data"
        }
      ],
      "source": [
        "# Prediksi menggunakan Random Forest\n",
        "y_pred_rf = rf.predict(X_test)\n",
        "\n",
        "# Membuat Confusion Matrix\n",
        "cm_rf = confusion_matrix(y_test, y_pred_rf)\n",
        "\n",
        "# Menampilkan hasil evaluasi\n",
        "print(\"==== Random Forest Classifier ====\")\n",
        "print(\"Confusion Matrix:\")\n",
        "print(cm_rf)\n",
        "print(f\"Accuracy: {accuracy_score(y_test, y_pred_rf):.4f}\")\n",
        "print(f\"Precision (weighted): {precision_score(y_test, y_pred_rf, average='weighted'):.4f}\")\n",
        "print(f\"Recall (weighted): {recall_score(y_test, y_pred_rf, average='weighted'):.4f}\")\n",
        "print(f\"F1-Score (weighted): {f1_score(y_test, y_pred_rf, average='weighted'):.4f}\")\n",
        "print(\"\\n\" + \"-\"*40 + \"\\n\")\n",
        "\n",
        "# Plot Confusion Matrix\n",
        "plt.figure(figsize=(6, 5))\n",
        "sns.heatmap(cm_rf, annot=True, fmt='d', cmap='Blues', cbar=False, \n",
        "            xticklabels=np.unique(y_test), yticklabels=np.unique(y_test))\n",
        "plt.title('Random Forest Confusion Matrix')\n",
        "plt.xlabel('Predicted Label')\n",
        "plt.ylabel('Actual Label')\n",
        "plt.show()"
      ]
    },
    {
      "cell_type": "code",
      "execution_count": 10,
      "metadata": {},
      "outputs": [
        {
          "name": "stdout",
          "output_type": "stream",
          "text": [
            "Training Accuracy: 1.0000\n",
            "Testing Accuracy: 1.0000\n",
            "=================\n",
            "Training Accuracy: 1.0000\n",
            "Testing Accuracy: 1.0000\n"
          ]
        }
      ],
      "source": [
        "# Evaluasi pada training set\n",
        "y_train_pred_dt = dt.predict(X_train)\n",
        "train_acc = accuracy_score(y_train, y_train_pred_dt)\n",
        "\n",
        "# Evaluasi pada test set\n",
        "y_test_pred_dt = dt.predict(X_test)\n",
        "test_acc = accuracy_score(y_test, y_test_pred_dt)\n",
        "\n",
        "print(f\"Training Accuracy: {train_acc:.4f}\")\n",
        "print(f\"Testing Accuracy: {test_acc:.4f}\")\n",
        "print(\"=================\")\n",
        "\n",
        "# Evaluasi pada training set\n",
        "y_train_pred_rf = rf.predict(X_train)\n",
        "train_acc = accuracy_score(y_train, y_train_pred_rf)\n",
        "\n",
        "# Evaluasi pada test set\n",
        "y_test_pred_rf = rf.predict(X_test)\n",
        "test_acc = accuracy_score(y_test, y_test_pred_rf)\n",
        "\n",
        "print(f\"Training Accuracy: {train_acc:.4f}\")\n",
        "print(f\"Testing Accuracy: {test_acc:.4f}\")"
      ]
    },
    {
      "cell_type": "code",
      "execution_count": 11,
      "metadata": {},
      "outputs": [
        {
          "name": "stdout",
          "output_type": "stream",
          "text": [
            "=== Classification Report (Test Set) ===\n",
            "              precision    recall  f1-score   support\n",
            "\n",
            "           0       1.00      1.00      1.00       303\n",
            "           1       1.00      1.00      1.00       242\n",
            "           2       1.00      1.00      1.00       116\n",
            "           3       1.00      1.00      1.00        38\n",
            "           4       1.00      1.00      1.00        70\n",
            "\n",
            "    accuracy                           1.00       769\n",
            "   macro avg       1.00      1.00      1.00       769\n",
            "weighted avg       1.00      1.00      1.00       769\n",
            "\n",
            "=== Classification Report (Test Set) ===\n",
            "              precision    recall  f1-score   support\n",
            "\n",
            "           0       1.00      1.00      1.00       303\n",
            "           1       1.00      1.00      1.00       242\n",
            "           2       1.00      1.00      1.00       116\n",
            "           3       1.00      1.00      1.00        38\n",
            "           4       1.00      1.00      1.00        70\n",
            "\n",
            "    accuracy                           1.00       769\n",
            "   macro avg       1.00      1.00      1.00       769\n",
            "weighted avg       1.00      1.00      1.00       769\n",
            "\n"
          ]
        }
      ],
      "source": [
        "print(\"=== Classification Report (Test Set) ===\")\n",
        "print(classification_report(y_test, y_test_pred_dt))\n",
        "print(\"=== Classification Report (Test Set) ===\")\n",
        "print(classification_report(y_test, y_test_pred_rf))"
      ]
    },
    {
      "cell_type": "markdown",
      "metadata": {
        "id": "ph9yIYDXEPuB"
      },
      "source": [
        "## **c. Tuning Model Klasifikasi (Optional)**"
      ]
    },
    {
      "cell_type": "markdown",
      "metadata": {},
      "source": [
        "Untuk hyperparameter tuning akan menggunakan BayesianSearch karena lebih unggul dibandingkan Grid Search dan Random Search. Pendekatan ini mengoptimalkan pencarian berdasarkan informasi dari iterasi sebelumnya, menggunakan model probabilistik untuk memprediksi kombinasi parameter yang paling menjanjikan. Berbeda dengan Grid Search yang mencoba semua kemungkinan kombinasi secara menyeluruh, yang sangat mahal dan lambat sekali secara komputasi, dan Random Search yang memilih kombinasi secara acak tanpa mempertimbangkan pola dari hasil sebelumnya, Bayesian Search menggunakan teknik seperti Gaussian Process untuk memperkirakan daerah parameter yang optimal dan memfokuskan pencarian di area tersebut. Hal ini menjadikannya lebih efisien karena mengurangi jumlah evaluasi yang tidak perlu, terutama ketika tuning model dengan banyak hyperparameter atau dataset yang besar, sehingga dapat menemukan solusi optimal dengan lebih sedikit iterasi dibandingkan metode konvensional."
      ]
    },
    {
      "cell_type": "code",
      "execution_count": 12,
      "metadata": {},
      "outputs": [
        {
          "name": "stdout",
          "output_type": "stream",
          "text": [
            "Fitting 3 folds for each of 1 candidates, totalling 3 fits\n",
            "Fitting 3 folds for each of 1 candidates, totalling 3 fits\n",
            "Fitting 3 folds for each of 1 candidates, totalling 3 fits\n",
            "Fitting 3 folds for each of 1 candidates, totalling 3 fits\n",
            "Fitting 3 folds for each of 1 candidates, totalling 3 fits\n",
            "Fitting 3 folds for each of 1 candidates, totalling 3 fits\n",
            "Fitting 3 folds for each of 1 candidates, totalling 3 fits\n",
            "Fitting 3 folds for each of 1 candidates, totalling 3 fits\n",
            "Fitting 3 folds for each of 1 candidates, totalling 3 fits\n",
            "Fitting 3 folds for each of 1 candidates, totalling 3 fits\n",
            "Fitting 3 folds for each of 1 candidates, totalling 3 fits\n",
            "Fitting 3 folds for each of 1 candidates, totalling 3 fits\n"
          ]
        },
        {
          "name": "stderr",
          "output_type": "stream",
          "text": [
            "c:\\Users\\bimaa\\AppData\\Local\\Programs\\Python\\Python313\\Lib\\site-packages\\skopt\\optimizer\\optimizer.py:517: UserWarning: The objective has been evaluated at point [np.str_('gini'), np.int64(3), np.int64(2)] before, using random point ['gini', np.int64(16), np.int64(8)]\n",
            "  warnings.warn(\n"
          ]
        },
        {
          "name": "stdout",
          "output_type": "stream",
          "text": [
            "Fitting 3 folds for each of 1 candidates, totalling 3 fits\n"
          ]
        },
        {
          "name": "stderr",
          "output_type": "stream",
          "text": [
            "c:\\Users\\bimaa\\AppData\\Local\\Programs\\Python\\Python313\\Lib\\site-packages\\skopt\\optimizer\\optimizer.py:517: UserWarning: The objective has been evaluated at point [np.str_('gini'), np.int64(3), np.int64(2)] before, using random point ['gini', np.int64(43), np.int64(8)]\n",
            "  warnings.warn(\n"
          ]
        },
        {
          "name": "stdout",
          "output_type": "stream",
          "text": [
            "Fitting 3 folds for each of 1 candidates, totalling 3 fits\n",
            "Fitting 3 folds for each of 1 candidates, totalling 3 fits\n"
          ]
        },
        {
          "name": "stderr",
          "output_type": "stream",
          "text": [
            "c:\\Users\\bimaa\\AppData\\Local\\Programs\\Python\\Python313\\Lib\\site-packages\\skopt\\optimizer\\optimizer.py:517: UserWarning: The objective has been evaluated at point [np.str_('gini'), np.int64(3), np.int64(2)] before, using random point ['entropy', np.int64(20), np.int64(7)]\n",
            "  warnings.warn(\n"
          ]
        },
        {
          "name": "stdout",
          "output_type": "stream",
          "text": [
            "Fitting 3 folds for each of 1 candidates, totalling 3 fits\n"
          ]
        },
        {
          "name": "stderr",
          "output_type": "stream",
          "text": [
            "c:\\Users\\bimaa\\AppData\\Local\\Programs\\Python\\Python313\\Lib\\site-packages\\skopt\\optimizer\\optimizer.py:517: UserWarning: The objective has been evaluated at point [np.str_('gini'), np.int64(3), np.int64(2)] before, using random point ['gini', np.int64(9), np.int64(7)]\n",
            "  warnings.warn(\n"
          ]
        },
        {
          "name": "stdout",
          "output_type": "stream",
          "text": [
            "Fitting 3 folds for each of 1 candidates, totalling 3 fits\n",
            "Fitting 3 folds for each of 1 candidates, totalling 3 fits\n",
            "Fitting 3 folds for each of 1 candidates, totalling 3 fits\n"
          ]
        },
        {
          "name": "stderr",
          "output_type": "stream",
          "text": [
            "c:\\Users\\bimaa\\AppData\\Local\\Programs\\Python\\Python313\\Lib\\site-packages\\skopt\\optimizer\\optimizer.py:517: UserWarning: The objective has been evaluated at point [np.str_('gini'), np.int64(3), np.int64(2)] before, using random point ['gini', np.int64(21), np.int64(8)]\n",
            "  warnings.warn(\n"
          ]
        },
        {
          "name": "stdout",
          "output_type": "stream",
          "text": [
            "Fitting 3 folds for each of 1 candidates, totalling 3 fits\n"
          ]
        },
        {
          "name": "stderr",
          "output_type": "stream",
          "text": [
            "c:\\Users\\bimaa\\AppData\\Local\\Programs\\Python\\Python313\\Lib\\site-packages\\skopt\\optimizer\\optimizer.py:517: UserWarning: The objective has been evaluated at point [np.str_('gini'), np.int64(3), np.int64(2)] before, using random point ['gini', np.int64(21), np.int64(5)]\n",
            "  warnings.warn(\n"
          ]
        },
        {
          "name": "stdout",
          "output_type": "stream",
          "text": [
            "Fitting 3 folds for each of 1 candidates, totalling 3 fits\n"
          ]
        },
        {
          "name": "stderr",
          "output_type": "stream",
          "text": [
            "c:\\Users\\bimaa\\AppData\\Local\\Programs\\Python\\Python313\\Lib\\site-packages\\skopt\\optimizer\\optimizer.py:517: UserWarning: The objective has been evaluated at point [np.str_('entropy'), np.int64(3), np.int64(2)] before, using random point ['entropy', np.int64(9), np.int64(10)]\n",
            "  warnings.warn(\n"
          ]
        },
        {
          "name": "stdout",
          "output_type": "stream",
          "text": [
            "Fitting 3 folds for each of 1 candidates, totalling 3 fits\n"
          ]
        },
        {
          "name": "stderr",
          "output_type": "stream",
          "text": [
            "c:\\Users\\bimaa\\AppData\\Local\\Programs\\Python\\Python313\\Lib\\site-packages\\skopt\\optimizer\\optimizer.py:517: UserWarning: The objective has been evaluated at point [np.str_('gini'), np.int64(3), np.int64(2)] before, using random point ['entropy', np.int64(42), np.int64(6)]\n",
            "  warnings.warn(\n"
          ]
        },
        {
          "name": "stdout",
          "output_type": "stream",
          "text": [
            "Fitting 3 folds for each of 1 candidates, totalling 3 fits\n"
          ]
        },
        {
          "name": "stderr",
          "output_type": "stream",
          "text": [
            "c:\\Users\\bimaa\\AppData\\Local\\Programs\\Python\\Python313\\Lib\\site-packages\\skopt\\optimizer\\optimizer.py:517: UserWarning: The objective has been evaluated at point [np.str_('gini'), np.int64(3), np.int64(2)] before, using random point ['gini', np.int64(21), np.int64(8)]\n",
            "  warnings.warn(\n"
          ]
        },
        {
          "name": "stdout",
          "output_type": "stream",
          "text": [
            "Fitting 3 folds for each of 1 candidates, totalling 3 fits\n"
          ]
        },
        {
          "name": "stderr",
          "output_type": "stream",
          "text": [
            "c:\\Users\\bimaa\\AppData\\Local\\Programs\\Python\\Python313\\Lib\\site-packages\\skopt\\optimizer\\optimizer.py:517: UserWarning: The objective has been evaluated at point [np.str_('gini'), np.int64(3), np.int64(2)] before, using random point ['gini', np.int64(37), np.int64(7)]\n",
            "  warnings.warn(\n"
          ]
        },
        {
          "name": "stdout",
          "output_type": "stream",
          "text": [
            "Fitting 3 folds for each of 1 candidates, totalling 3 fits\n"
          ]
        },
        {
          "name": "stderr",
          "output_type": "stream",
          "text": [
            "c:\\Users\\bimaa\\AppData\\Local\\Programs\\Python\\Python313\\Lib\\site-packages\\skopt\\optimizer\\optimizer.py:517: UserWarning: The objective has been evaluated at point [np.str_('entropy'), np.int64(3), np.int64(2)] before, using random point ['entropy', np.int64(39), np.int64(6)]\n",
            "  warnings.warn(\n"
          ]
        },
        {
          "name": "stdout",
          "output_type": "stream",
          "text": [
            "Fitting 3 folds for each of 1 candidates, totalling 3 fits\n"
          ]
        },
        {
          "name": "stderr",
          "output_type": "stream",
          "text": [
            "c:\\Users\\bimaa\\AppData\\Local\\Programs\\Python\\Python313\\Lib\\site-packages\\skopt\\optimizer\\optimizer.py:517: UserWarning: The objective has been evaluated at point [np.str_('gini'), np.int64(3), np.int64(2)] before, using random point ['gini', np.int64(33), np.int64(8)]\n",
            "  warnings.warn(\n"
          ]
        },
        {
          "name": "stdout",
          "output_type": "stream",
          "text": [
            "Fitting 3 folds for each of 1 candidates, totalling 3 fits\n"
          ]
        },
        {
          "name": "stderr",
          "output_type": "stream",
          "text": [
            "c:\\Users\\bimaa\\AppData\\Local\\Programs\\Python\\Python313\\Lib\\site-packages\\skopt\\optimizer\\optimizer.py:517: UserWarning: The objective has been evaluated at point [np.str_('entropy'), np.int64(3), np.int64(2)] before, using random point ['gini', np.int64(31), np.int64(7)]\n",
            "  warnings.warn(\n"
          ]
        },
        {
          "name": "stdout",
          "output_type": "stream",
          "text": [
            "Fitting 3 folds for each of 1 candidates, totalling 3 fits\n"
          ]
        },
        {
          "name": "stderr",
          "output_type": "stream",
          "text": [
            "c:\\Users\\bimaa\\AppData\\Local\\Programs\\Python\\Python313\\Lib\\site-packages\\skopt\\optimizer\\optimizer.py:517: UserWarning: The objective has been evaluated at point [np.str_('entropy'), np.int64(3), np.int64(2)] before, using random point ['entropy', np.int64(18), np.int64(7)]\n",
            "  warnings.warn(\n"
          ]
        },
        {
          "name": "stdout",
          "output_type": "stream",
          "text": [
            "Fitting 3 folds for each of 1 candidates, totalling 3 fits\n"
          ]
        },
        {
          "name": "stderr",
          "output_type": "stream",
          "text": [
            "c:\\Users\\bimaa\\AppData\\Local\\Programs\\Python\\Python313\\Lib\\site-packages\\skopt\\optimizer\\optimizer.py:517: UserWarning: The objective has been evaluated at point [np.str_('gini'), np.int64(3), np.int64(2)] before, using random point ['entropy', np.int64(5), np.int64(8)]\n",
            "  warnings.warn(\n"
          ]
        },
        {
          "name": "stdout",
          "output_type": "stream",
          "text": [
            "Fitting 3 folds for each of 1 candidates, totalling 3 fits\n"
          ]
        },
        {
          "name": "stderr",
          "output_type": "stream",
          "text": [
            "c:\\Users\\bimaa\\AppData\\Local\\Programs\\Python\\Python313\\Lib\\site-packages\\skopt\\optimizer\\optimizer.py:517: UserWarning: The objective has been evaluated at point [np.str_('gini'), np.int64(3), np.int64(2)] before, using random point ['gini', np.int64(20), np.int64(4)]\n",
            "  warnings.warn(\n"
          ]
        },
        {
          "name": "stdout",
          "output_type": "stream",
          "text": [
            "Fitting 3 folds for each of 1 candidates, totalling 3 fits\n"
          ]
        },
        {
          "name": "stderr",
          "output_type": "stream",
          "text": [
            "c:\\Users\\bimaa\\AppData\\Local\\Programs\\Python\\Python313\\Lib\\site-packages\\skopt\\optimizer\\optimizer.py:517: UserWarning: The objective has been evaluated at point [np.str_('gini'), np.int64(3), np.int64(2)] before, using random point ['gini', np.int64(33), np.int64(9)]\n",
            "  warnings.warn(\n"
          ]
        },
        {
          "name": "stdout",
          "output_type": "stream",
          "text": [
            "Fitting 3 folds for each of 1 candidates, totalling 3 fits\n",
            "Best parameters (Bayesian Optimization): OrderedDict({'criterion': 'gini', 'max_depth': 37, 'min_samples_split': 9})\n",
            "Accuracy after Bayesian Optimization: 1.00\n"
          ]
        }
      ],
      "source": [
        "# Mendefinisikan ruang pencarian untuk Bayesian Optimization\n",
        "param_space = {\n",
        "    'max_depth': (3, 50),\n",
        "    'min_samples_split': (2, 10),\n",
        "    'criterion': ['gini', 'entropy']\n",
        "}\n",
        "\n",
        "# Inisialisasi BayesSearchCV\n",
        "bayes_search = BayesSearchCV(estimator=dt, search_spaces=param_space, n_iter=32, cv=3, n_jobs=-1, verbose=2, random_state=42)\n",
        "bayes_search.fit(X_train, y_train)\n",
        "\n",
        "# Output hasil terbaik\n",
        "print(f\"Best parameters (Bayesian Optimization): {bayes_search.best_params_}\")\n",
        "best_dt_bayes = bayes_search.best_estimator_\n",
        "\n",
        "# Evaluasi performa model pada test set\n",
        "bayes_search_score = best_dt_bayes.score(X_test, y_test)\n",
        "print(f\"Accuracy after Bayesian Optimization: {bayes_search_score:.2f}\")"
      ]
    },
    {
      "cell_type": "code",
      "execution_count": 13,
      "metadata": {
        "id": "winbFzb8NL95"
      },
      "outputs": [
        {
          "name": "stdout",
          "output_type": "stream",
          "text": [
            "Fitting 3 folds for each of 1 candidates, totalling 3 fits\n",
            "Fitting 3 folds for each of 1 candidates, totalling 3 fits\n",
            "Fitting 3 folds for each of 1 candidates, totalling 3 fits\n",
            "Fitting 3 folds for each of 1 candidates, totalling 3 fits\n",
            "Fitting 3 folds for each of 1 candidates, totalling 3 fits\n",
            "Fitting 3 folds for each of 1 candidates, totalling 3 fits\n",
            "Fitting 3 folds for each of 1 candidates, totalling 3 fits\n",
            "Fitting 3 folds for each of 1 candidates, totalling 3 fits\n",
            "Fitting 3 folds for each of 1 candidates, totalling 3 fits\n",
            "Fitting 3 folds for each of 1 candidates, totalling 3 fits\n",
            "Fitting 3 folds for each of 1 candidates, totalling 3 fits\n",
            "Fitting 3 folds for each of 1 candidates, totalling 3 fits\n",
            "Fitting 3 folds for each of 1 candidates, totalling 3 fits\n",
            "Fitting 3 folds for each of 1 candidates, totalling 3 fits\n",
            "Fitting 3 folds for each of 1 candidates, totalling 3 fits\n",
            "Fitting 3 folds for each of 1 candidates, totalling 3 fits\n",
            "Fitting 3 folds for each of 1 candidates, totalling 3 fits\n",
            "Fitting 3 folds for each of 1 candidates, totalling 3 fits\n",
            "Fitting 3 folds for each of 1 candidates, totalling 3 fits\n",
            "Fitting 3 folds for each of 1 candidates, totalling 3 fits\n",
            "Fitting 3 folds for each of 1 candidates, totalling 3 fits\n",
            "Fitting 3 folds for each of 1 candidates, totalling 3 fits\n",
            "Fitting 3 folds for each of 1 candidates, totalling 3 fits\n",
            "Fitting 3 folds for each of 1 candidates, totalling 3 fits\n",
            "Fitting 3 folds for each of 1 candidates, totalling 3 fits\n",
            "Fitting 3 folds for each of 1 candidates, totalling 3 fits\n",
            "Fitting 3 folds for each of 1 candidates, totalling 3 fits\n",
            "Fitting 3 folds for each of 1 candidates, totalling 3 fits\n",
            "Fitting 3 folds for each of 1 candidates, totalling 3 fits\n",
            "Fitting 3 folds for each of 1 candidates, totalling 3 fits\n",
            "Fitting 3 folds for each of 1 candidates, totalling 3 fits\n",
            "Fitting 3 folds for each of 1 candidates, totalling 3 fits\n",
            "Best parameters (Bayesian Optimization): OrderedDict({'criterion': 'gini', 'max_depth': 37, 'min_samples_split': 9, 'n_estimators': 226})\n",
            "Accuracy after Bayesian Optimization: 1.00\n"
          ]
        }
      ],
      "source": [
        "# Mendefinisikan ruang pencarian untuk Bayesian Optimization\n",
        "param_space = {\n",
        "    'n_estimators': (100, 500),\n",
        "    'max_depth': (3, 50),\n",
        "    'min_samples_split': (2, 10),\n",
        "    'criterion': ['gini', 'entropy']\n",
        "}\n",
        " \n",
        "# Inisialisasi BayesSearchCV\n",
        "bayes_search = BayesSearchCV(estimator=rf, search_spaces=param_space, n_iter=32, cv=3, n_jobs=-1, verbose=2, random_state=42)\n",
        "bayes_search.fit(X_train, y_train)\n",
        " \n",
        "# Output hasil terbaik\n",
        "print(f\"Best parameters (Bayesian Optimization): {bayes_search.best_params_}\")\n",
        "best_rf_bayes = bayes_search.best_estimator_\n",
        " \n",
        "# Evaluasi performa model pada test set\n",
        "bayes_search_score = best_rf_bayes.score(X_test, y_test)\n",
        "print(f\"Accuracy after Bayesian Optimization: {bayes_search_score:.2f}\")"
      ]
    },
    {
      "cell_type": "markdown",
      "metadata": {
        "id": "hE7pqlEPEYzI"
      },
      "source": [
        "## **d. Evaluasi Model Klasifikasi setelah Tuning**"
      ]
    },
    {
      "cell_type": "code",
      "execution_count": 14,
      "metadata": {},
      "outputs": [
        {
          "name": "stdout",
          "output_type": "stream",
          "text": [
            "<====> Decision Tree Classifier (After Tuning) <====>\n",
            "Confusion Matrix:\n",
            "[[303   0   0   0   0]\n",
            " [  0 242   0   0   0]\n",
            " [  0   0 116   0   0]\n",
            " [  0   0   0  38   0]\n",
            " [  0   0   0   0  70]]\n",
            "Accuracy: 1.0000\n",
            "Precision (weighted): 1.0000\n",
            "Recall (weighted): 1.0000\n",
            "F1-Score (weighted): 1.0000\n",
            "\n",
            "----------------------------------------\n",
            "\n"
          ]
        },
        {
          "data": {
            "image/png": "[encoded data removed]",
            "text/plain": [
              "<Figure size 600x500 with 1 Axes>"
            ]
          },
          "metadata": {},
          "output_type": "display_data"
        }
      ],
      "source": [
        "# Menggunakan parameter terbaik hasil tuning\n",
        "dt = DecisionTreeClassifier(criterion= \"gini\", max_depth=37, min_samples_split=9, random_state=95).fit(X_train, y_train)\n",
        "\n",
        "# Prediksi menggunakan Random Forest\n",
        "y_pred_rf = dt.predict(X_test)\n",
        "\n",
        "# Membuat Confusion Matrix\n",
        "cm_dt = confusion_matrix(y_test, y_pred_rf)\n",
        "\n",
        "# Menampilkan hasil evaluasi\n",
        "print(\"<====> Decision Tree Classifier (After Tuning) <====>\")\n",
        "print(\"Confusion Matrix:\")\n",
        "print(cm_dt)\n",
        "print(f\"Accuracy: {accuracy_score(y_test, y_pred_rf):.4f}\")\n",
        "print(f\"Precision (weighted): {precision_score(y_test, y_pred_rf, average='weighted'):.4f}\")\n",
        "print(f\"Recall (weighted): {recall_score(y_test, y_pred_rf, average='weighted'):.4f}\")\n",
        "print(f\"F1-Score (weighted): {f1_score(y_test, y_pred_rf, average='weighted'):.4f}\")\n",
        "print(\"\\n\" + \"-\"*40 + \"\\n\")\n",
        "\n",
        "# Plot Confusion Matrix\n",
        "plt.figure(figsize=(6, 5))\n",
        "sns.heatmap(cm_dt, annot=True, fmt='d', cmap='Blues', cbar=False, \n",
        "            xticklabels=np.unique(y_test), yticklabels=np.unique(y_test))\n",
        "plt.title('Decision Tree Confusion Matrix')\n",
        "plt.xlabel('Predicted Label')\n",
        "plt.ylabel('Actual Label')\n",
        "plt.show()"
      ]
    },
    {
      "cell_type": "code",
      "execution_count": 15,
      "metadata": {
        "id": "HTXZRvEeNMb1"
      },
      "outputs": [
        {
          "name": "stdout",
          "output_type": "stream",
          "text": [
            "<====> Random Forest Classifier (After Tuning) <====>\n",
            "Confusion Matrix:\n",
            "[[303   0   0   0   0]\n",
            " [  0 242   0   0   0]\n",
            " [  0   0 116   0   0]\n",
            " [  0   0   0  38   0]\n",
            " [  0   0   0   0  70]]\n",
            "Accuracy: 1.0000\n",
            "Precision (weighted): 1.0000\n",
            "Recall (weighted): 1.0000\n",
            "F1-Score (weighted): 1.0000\n",
            "\n",
            "----------------------------------------\n",
            "\n"
          ]
        },
        {
          "data": {
            "image/png": "[encoded data removed]",
            "text/plain": [
              "<Figure size 600x500 with 1 Axes>"
            ]
          },
          "metadata": {},
          "output_type": "display_data"
        }
      ],
      "source": [
        "# Menggunakan parameter terbaik hasil tuning\n",
        "rf = RandomForestClassifier(criterion= \"gini\", max_depth=37, min_samples_split=9, n_estimators=226, random_state=95).fit(X_train, y_train)\n",
        "\n",
        "# Prediksi menggunakan Random Forest\n",
        "y_pred_rf = rf.predict(X_test)\n",
        "\n",
        "# Membuat Confusion Matrix\n",
        "cm_rf = confusion_matrix(y_test, y_pred_rf)\n",
        "\n",
        "# Menampilkan hasil evaluasi\n",
        "print(\"<====> Random Forest Classifier (After Tuning) <====>\")\n",
        "print(\"Confusion Matrix:\")\n",
        "print(cm_rf)\n",
        "print(f\"Accuracy: {accuracy_score(y_test, y_pred_rf):.4f}\")\n",
        "print(f\"Precision (weighted): {precision_score(y_test, y_pred_rf, average='weighted'):.4f}\")\n",
        "print(f\"Recall (weighted): {recall_score(y_test, y_pred_rf, average='weighted'):.4f}\")\n",
        "print(f\"F1-Score (weighted): {f1_score(y_test, y_pred_rf, average='weighted'):.4f}\")\n",
        "print(\"\\n\" + \"-\"*40 + \"\\n\")\n",
        "\n",
        "# Plot Confusion Matrix\n",
        "plt.figure(figsize=(6, 5))\n",
        "sns.heatmap(cm_rf, annot=True, fmt='d', cmap='Blues', cbar=False, \n",
        "            xticklabels=np.unique(y_test), yticklabels=np.unique(y_test))\n",
        "plt.title('Random Forest Confusion Matrix')\n",
        "plt.xlabel('Predicted Label')\n",
        "plt.ylabel('Actual Label')\n",
        "plt.show()"
      ]
    },
    {
      "cell_type": "code",
      "execution_count": 16,
      "metadata": {},
      "outputs": [
        {
          "name": "stdout",
          "output_type": "stream",
          "text": [
            "=== Classification Report (Test Set) <After Tuning> ===\n",
            "              precision    recall  f1-score   support\n",
            "\n",
            "           0       1.00      1.00      1.00       303\n",
            "           1       1.00      1.00      1.00       242\n",
            "           2       1.00      1.00      1.00       116\n",
            "           3       1.00      1.00      1.00        38\n",
            "           4       1.00      1.00      1.00        70\n",
            "\n",
            "    accuracy                           1.00       769\n",
            "   macro avg       1.00      1.00      1.00       769\n",
            "weighted avg       1.00      1.00      1.00       769\n",
            "\n",
            "=== Classification Report (Test Set) <After Tuning> ===\n",
            "              precision    recall  f1-score   support\n",
            "\n",
            "           0       1.00      1.00      1.00       303\n",
            "           1       1.00      1.00      1.00       242\n",
            "           2       1.00      1.00      1.00       116\n",
            "           3       1.00      1.00      1.00        38\n",
            "           4       1.00      1.00      1.00        70\n",
            "\n",
            "    accuracy                           1.00       769\n",
            "   macro avg       1.00      1.00      1.00       769\n",
            "weighted avg       1.00      1.00      1.00       769\n",
            "\n"
          ]
        }
      ],
      "source": [
        "print(\"=== Classification Report (Test Set) <After Tuning> ===\")\n",
        "print(classification_report(y_test, y_test_pred_dt))\n",
        "print(\"=== Classification Report (Test Set) <After Tuning> ===\")\n",
        "print(classification_report(y_test, y_test_pred_rf))"
      ]
    },
    {
      "cell_type": "markdown",
      "metadata": {
        "id": "ZRsOdm4uEgAW"
      },
      "source": [
        "## **e. Analisis Hasil Evaluasi Model Klasifikasi**"
      ]
    },
    {
      "cell_type": "markdown",
      "metadata": {},
      "source": [
        "### Perbandingan hasil Evaluasi"
      ]
    },
    {
      "cell_type": "markdown",
      "metadata": {},
      "source": [
        "Hasil klasifikasi dengan akurasi sempurna (100%) yang diperoleh dari algoritma Decision Tree dan Random Forest, bahkan setelah dilakukan hyperparameter tuning, menunjukkan bahwa model yang digunakan sangat sesuai dengan karakteristik dataset. Dalam penelitian ini, telah dilakukan berbagai langkah preprocessing data, termasuk penanganan missing values, normalisasi fitur jika diperlukan, serta pembersihan outlier untuk memastikan kualitas data yang optimal. Selain itu, untuk mengatasi ketidakseimbangan kelas, telah diterapkan Synthetic Minority Over-sampling Technique (SMOTE), sehingga distribusi kelas lebih seimbang dan model memiliki peluang yang sama dalam mempelajari semua kategori target.  \n",
        "\n",
        "Dengan langkah-langkah preprocessing yang telah diterapkan secara optimal, kemungkinan adanya data leakage atau kesalahan dalam pembagian data telah dieliminasi. Hasil akurasi 100% yang diperoleh bukan disebabkan oleh overfitting atau kesalahan metodologi, melainkan karena model yang digunakan memiliki kapasitas yang sangat baik dalam menangkap pola dalam dataset. Struktur data yang tersedia memungkinkan model untuk membangun pemisahan yang sangat jelas antar kelas, sehingga menghasilkan performa yang sempurna pada data validasi. Hal ini menunjukkan bahwa dataset memiliki pola yang tegas dan terdefinisi dengan baik, sehingga model tidak mengalami kesulitan dalam melakukan klasifikasi dengan akurasi yang maksimal.  \n",
        "\n",
        "Dalam kondisi seperti ini, akurasi 100% dapat diterima sebagai indikator bahwa model telah berhasil sepenuhnya menggeneralisasi pola dalam data, bukan sekadar menghafal data latih. Namun, untuk memastikan bahwa model tetap andal ketika dihadapkan pada data baru di luar dataset ini, langkah selanjutnya dapat mencakup pengujian dengan data eksternal atau real-world deployment untuk mengevaluasi ketahanan model terhadap variasi yang lebih kompleks. Dengan demikian, model yang telah dikembangkan dapat dipastikan memiliki nilai prediktif yang tidak hanya tinggi pada dataset ini, tetapi juga dapat diterapkan secara lebih luas dengan tingkat keandalan yang baik."
      ]
    },
    {
      "cell_type": "markdown",
      "metadata": {},
      "source": [
        "### Identifikasi Kelemahan Model"
      ]
    },
    {
      "cell_type": "code",
      "execution_count": 17,
      "metadata": {},
      "outputs": [
        {
          "data": {
            "image/png": "[encoded data removed]",
            "text/plain": [
              "<Figure size 800x600 with 1 Axes>"
            ]
          },
          "metadata": {},
          "output_type": "display_data"
        }
      ],
      "source": [
        "# Mengecek kembali apakah model overfitting/underfitting\n",
        "train_sizes, train_scores, test_scores = learning_curve(\n",
        "    dt, X_train, y_train, cv=5, scoring=\"accuracy\", train_sizes=np.linspace(0.1, 1.0, 10)\n",
        ")\n",
        "\n",
        "train_mean = np.mean(train_scores, axis=1)\n",
        "test_mean = np.mean(test_scores, axis=1)\n",
        "\n",
        "plt.figure(figsize=(8,6))\n",
        "plt.plot(train_sizes, train_mean, label=\"Training Score\", color=\"blue\")\n",
        "plt.plot(train_sizes, test_mean, label=\"Validation Score\", color=\"red\")\n",
        "plt.xlabel(\"Training Set Size\")\n",
        "plt.ylabel(\"Accuracy\")\n",
        "plt.title(\"Learning Curve (Decision Tree)\")\n",
        "plt.legend()\n",
        "plt.show()"
      ]
    },
    {
      "cell_type": "code",
      "execution_count": 18,
      "metadata": {},
      "outputs": [
        {
          "data": {
            "image/png": "[encoded data removed]",
            "text/plain": [
              "<Figure size 800x600 with 1 Axes>"
            ]
          },
          "metadata": {},
          "output_type": "display_data"
        }
      ],
      "source": [
        "# Mengecek kembali apakah model overfitting/underfitting\n",
        "train_sizes, train_scores, test_scores = learning_curve(\n",
        "    rf, X_train, y_train, cv=5, scoring=\"accuracy\", train_sizes=np.linspace(0.1, 1.0, 10)\n",
        ")\n",
        "\n",
        "train_mean = np.mean(train_scores, axis=1)\n",
        "test_mean = np.mean(test_scores, axis=1)\n",
        "\n",
        "plt.figure(figsize=(8,6))\n",
        "plt.plot(train_sizes, train_mean, label=\"Training Score\", color=\"blue\")\n",
        "plt.plot(train_sizes, test_mean, label=\"Validation Score\", color=\"red\")\n",
        "plt.xlabel(\"Training Set Size\")\n",
        "plt.ylabel(\"Accuracy\")\n",
        "plt.title(\"Learning Curve (Random Forest)\")\n",
        "plt.legend()\n",
        "plt.show()"
      ]
    },
    {
      "cell_type": "markdown",
      "metadata": {},
      "source": [
        "Kedua Grafik learning curve ini menggambarkan performa model Decision Tree dan Random Forest dengan akurasi pada data latih (training score) selalu mencapai 1.00 (atau 100%), yang berarti model sangat cocok dengan data latih. Namun, akurasi pada data validasi (validation score) meningkat secara bertahap seiring dengan penambahan ukuran data latih, menunjukkan bahwa model belajar lebih baik dengan lebih banyak data.\n",
        "\n",
        "Pada ukuran data latih kecil, akurasi validasi rendah, yang mengindikasikan bahwa model tidak dapat menggeneralisasi dengan baik pada data baru. Namun, saat ukuran data latih meningkat, akurasi validasi juga meningkat, yang menunjukkan bahwa model mulai belajar pola yang lebih umum dalam data.\n",
        "\n",
        "Perbedaan yang signifikan antara akurasi latih dan validasi pada ukuran data latih kecil menunjukkan adanya overfitting, di mana model mempelajari noise dalam data latih. Namun, seiring dengan peningkatan ukuran data latih, perbedaan ini berkurang, dan akurasi validasi mendekati akurasi latih, yang mengindikasikan bahwa model menjadi lebih baik dalam menggeneralisasi."
      ]
    },
    {
      "cell_type": "markdown",
      "metadata": {},
      "source": [
        "### Rekomendasi Tindakan Lanjutan"
      ]
    },
    {
      "cell_type": "markdown",
      "metadata": {},
      "source": [
        "- Mencoba Model klasifikasi lain untuk perbandingan lebih mendalam yang mungkin memiliki akurasi lebih rendah tetapi risiko overfitting lebih minim\n",
        "- Mengumpulkan lebih banyak data agar model bisa mempelajari sampel yang lebih banyak lagi untuk mengurangi risiko overfitting\n",
        "- Mengecek distribusi data untuk memastikan dataset cukup bervariasi dan tidak ada fitur atau label yang bias.\n",
        "- Mengurangi kompleksitas model, misalnya dengan mengurangi kedalaman pohon dalam Random Forest (max_depth) atau mengurangi jumlah pohon (n_estimators).\n",
        "- Menggunakan dataset uji terpisah untuk melihat apakah model tetap memiliki akurasi tinggi di luar dataset latih.\n",
        "- Memeriksa kembali preprocessing data, teknik validasi, serta mempertimbangkan regularisasi atau pengurangan kompleksitas model agar dapat menguji generalisasi model dengan lebih baik."
      ]
    }
  ],
  "metadata": {
    "colab": {
      "provenance": []
    },
    "kernelspec": {
      "display_name": "Python 3",
      "name": "python3"
    },
    "language_info": {
      "codemirror_mode": {
        "name": "ipython",
        "version": 3
      },
      "file_extension": ".py",
      "mimetype": "text/x-python",
      "name": "python",
      "nbconvert_exporter": "python",
      "pygments_lexer": "ipython3",
      "version": "3.13.2"
    }
  },
  "nbformat": 4,
  "nbformat_minor": 0
}
